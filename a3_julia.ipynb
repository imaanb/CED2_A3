{
 "cells": [
  {
   "cell_type": "code",
   "execution_count": 101,
   "metadata": {},
   "outputs": [],
   "source": [
    "\n",
    "using Markdown\n",
    "using InteractiveUtils\n",
    "\n",
    "using PlutoUI# Allows to create table of contents and sliders\n",
    "\n",
    "using Plots, LaTeXStrings\n",
    "\n",
    "using DifferentialEquations\n",
    "\n",
    "using ForwardDiff, LinearAlgebra\n",
    "\n",
    "using Roots\n",
    "\n"
   ]
  },
  {
   "cell_type": "code",
   "execution_count": 102,
   "metadata": {},
   "outputs": [
    {
     "data": {
      "text/plain": [
       "@bind (macro with 1 method)"
      ]
     },
     "execution_count": 102,
     "metadata": {},
     "output_type": "execute_result"
    }
   ],
   "source": [
    "macro bind(def, element)\n",
    "    #! format: off\n",
    "    quote\n",
    "        local iv = try Base.loaded_modules[Base.PkgId(Base.UUID(\"6e696c72-6542-2067-7265-42206c756150\"), \"AbstractPlutoDingetjes\")].Bonds.initial_value catch; b -> missing; end\n",
    "        local el = $(esc(element))\n",
    "        global $(esc(def)) = Core.applicable(Base.get, el) ? Base.get(el) : iv(el)\n",
    "        el\n",
    "    end\n",
    "    #! format: on\n",
    "end"
   ]
  },
  {
   "cell_type": "code",
   "execution_count": 103,
   "metadata": {},
   "outputs": [],
   "source": [
    "TableOfContents()\n",
    "\n",
    "Plots.default(\n",
    "\tsize = 600 .* (√2, 1), # A4 size\n",
    "\tdpi = 180, # density of pixels per inch\n",
    "\tlinewidth = 3, margins = 5Plots.mm,\n",
    "\tlabel = false\n",
    "); Plots.scalefontsizes(1.2)"
   ]
  },
  {
   "cell_type": "code",
   "execution_count": 104,
   "metadata": {},
   "outputs": [
    {
     "data": {
      "text/plain": [
       "plotvectorfield! (generic function with 1 method)"
      ]
     },
     "execution_count": 104,
     "metadata": {},
     "output_type": "execute_result"
    }
   ],
   "source": [
    "begin\n",
    "\tfunction plotvectorfield(xs, ys, g; plotkwargs...)\n",
    "\t    fig = plot()\n",
    "\t    plotvectorfield!(fig, xs, ys, g; plotkwargs...)\n",
    "\t    return fig\n",
    "\tend\n",
    "\t\n",
    "\tfunction plotvectorfield!(figure, xs, ys, g; rescale = 1, plotkwargs...)\n",
    "\t\n",
    "\t\txlims = extrema(xs)\n",
    "\t\tylims = extrema(ys)\n",
    "\t\t\n",
    "\t\tN, M = length(xs), length(ys)\n",
    "\t\txm = repeat(xs, outer=M)\n",
    "\t\tym = repeat(ys, inner=N)\n",
    "\t\t\n",
    "\t\tfield = g.(xm, ym)\n",
    "\t\t\n",
    "\t\tscale = rescale * (xlims[2] - xlims[1]) / min(N, M)\n",
    "\t\tu = @. scale * first(field)\n",
    "\t\tv = @. scale * last(field)\n",
    "\t\t\n",
    "\t\tsteadystates = @. (u ≈ 0) * (v ≈ 0)\n",
    "\t\t\n",
    "\t\tu[steadystates] .= NaN\n",
    "\t\tv[steadystates] .= NaN\n",
    "\t\t\n",
    "\t\tz = (x -> √(x'x)).(field)\n",
    "\t\t\n",
    "\t    quiver!(\n",
    "\t        figure, xm, ym;\n",
    "\t        quiver = (u, v), line_z=repeat(z, inner=4),\n",
    "\t        xlims = xlims, ylims = ylims,\n",
    "\t        c = :batlow, colorbar = false,\n",
    "\t        plotkwargs...\n",
    "\t    )\n",
    "\t\n",
    "\tend\n",
    "end\n"
   ]
  },
  {
   "cell_type": "code",
   "execution_count": 105,
   "metadata": {},
   "outputs": [],
   "source": [
    "Base.@kwdef struct Model\n",
    "\tb::Float64 = 0.65\n",
    "\tc::Float64 = 0.5\n",
    "\tρ::Float64 = 0.03\n",
    "end;"
   ]
  },
  {
   "cell_type": "code",
   "execution_count": 106,
   "metadata": {},
   "outputs": [],
   "source": [
    "\n",
    "\n",
    "function f(x, l, model::Model)\n",
    "\t- 1\\l - model.b * x + (x^2)/(x^2 + 1)\n",
    "end;\n",
    "\n",
    "function g(x, l, model::Model)\n",
    "\tmodel.ρ * l + 2*c*x + model.b * l - (2 * l * x)/(x^2 + 1)^2 \n",
    "end;\n",
    "\n",
    "function F!(du, u, model, t)\n",
    "\tdu[1] = f(u[1], max(u[2], 0.), model)\n",
    "\tdu[2] = g(u[1], max(u[2], 0.), model)\n",
    "\n",
    "\treturn du\n",
    "end;\n",
    "\n",
    "field(x, a, model::Model) = F!(Vector{Float64}(undef, 2), [x, a], model, 0.);\n",
    "\n",
    "\n",
    "function J(x, a, model::Model)\n",
    "\tl = -1/a\n",
    "\tu = [x, l]\n",
    "\tForwardDiff.jacobian((du, u) -> F!(du, u, model, 0.), similar(u), u)\n",
    "end;\n"
   ]
  },
  {
   "cell_type": "code",
   "execution_count": 107,
   "metadata": {},
   "outputs": [],
   "source": [
    "\n",
    "xspan = (0., 4.); aspan = (0., 0.6);\n"
   ]
  },
  {
   "cell_type": "markdown",
   "metadata": {},
   "source": [
    "\n",
    "### Dynamics of the system...\n",
    "\n",
    "With a constant fertiliser use $a =$ $(@bind afig Slider(range(aspan...; step = 0.01), show_value = true))\n",
    "\"\n",
    "\n"
   ]
  },
  {
   "cell_type": "markdown",
   "metadata": {},
   "source": [
    "\n",
    "### Nullclines\n",
    "\n",
    "The nullclines are given by \n",
    "\n",
    "\n",
    "\n",
    "$\\begin{align}\n",
    "N_x &= \\Big\\{a = m(x)\\Big\\} \\\\\n",
    "N_a &= \\left\\{(x, a): \\sqrt{a} = \\frac{\\rho + m'(x)}{2cx}\\right\\}\n",
    "\\end{align}$\n",
    "\n",
    "\n",
    "\n"
   ]
  },
  {
   "cell_type": "code",
   "execution_count": 108,
   "metadata": {},
   "outputs": [],
   "source": [
    "\n",
    "# ╔═╡ d917eda6-4265-408b-ad14-b421f2fb9b6f\n",
    "\n",
    "\n",
    "function Nₓ(x, model:: Model) \n",
    "\tmodel.b * x - (x^2)/(x^2 +1)\n",
    "\t\n",
    "end; \n",
    "\n",
    "# ╔═╡ c2903662-fd60-48a6-850e-07f668b78f2a\n",
    "function Nₐ(x, model::Model)\n",
    "\tnum = (model.ρ + model.b - (2*x)/((x^2 + 1)^2))\n",
    "\tden = 2* model.c * x\n",
    "\n",
    "\t(ifelse(num > 0., num, NaN) / den)^2\n",
    "end;\n"
   ]
  },
  {
   "cell_type": "code",
   "execution_count": null,
   "metadata": {},
   "outputs": [],
   "source": [
    "# ╔═╡ d917eda6-4265-408b-ad14-b421f2fb9b6f\n",
    "\n",
    "\n",
    "function Nₓ(x, model:: Model) \n",
    "\tmodel.b * x - (x^2)/(x^2 +1)\n",
    "\t\n",
    "end; \n",
    "\n",
    "# ╔═╡ c2903662-fd60-48a6-850e-07f668b78f2a\n",
    "function Nₐ(x, model::Model)\n",
    "\tnum = model.ρ + model.b - (2*x)/((x^2 + 1)^2)\n",
    "\tden = 2 * model.c * x\n",
    "\n",
    "\t(ifelse(num > 0., num, NaN) / den)^2\n",
    "end;\n"
   ]
  },
  {
   "cell_type": "code",
   "execution_count": 109,
   "metadata": {},
   "outputs": [],
   "source": [
    "\n",
    "# ╔═╡ 5e8ceff6-7388-429e-b8c6-a3a0ae4cef99\n",
    "begin\n",
    "\th = 1e-4\n",
    "\t\n",
    "\tfunction outofbounds(u, t, integrator)\n",
    "\t\t!all(0. .< u .< 5.)\n",
    "\tend\n",
    "\t\n",
    "\tcallback = DiscreteCallback(outofbounds, terminate!)\n",
    "\tmanifoldhorizon = 1000.\n",
    "end;\n"
   ]
  },
  {
   "cell_type": "code",
   "execution_count": 110,
   "metadata": {},
   "outputs": [
    {
     "data": {
      "text/plain": [
       "\"\\n- ``c =`` Slider{Float64}(0.2:0.01:0.5, 0.5, true)\\n- ``\\rho =`` Slider{Float64}(0.01:0.01:0.5, 0.03, true)\\n- ``x_0 =`` Slider{Float64}(0.0:0.1:4.0, 2.0, true)\\n\""
      ]
     },
     "execution_count": 110,
     "metadata": {},
     "output_type": "execute_result"
    }
   ],
   "source": [
    "\n",
    "\"\n",
    "- ``c =`` $(@bind c Slider(0.2:0.01:0.5, show_value = true, default = 0.5))\n",
    "- ``\\rho =`` $(@bind ρ Slider(0.01:0.01:0.5, show_value = true, default = 0.03))\n",
    "- ``x_0 =`` $(@bind x₀ Slider(range(xspan...; step = 0.1), show_value = true, default = 2.))\n",
    "\"\n"
   ]
  },
  {
   "cell_type": "code",
   "execution_count": 111,
   "metadata": {},
   "outputs": [],
   "source": [
    "\n",
    "model = Model(c = c, ρ = ρ);\n",
    "\n"
   ]
  },
  {
   "cell_type": "code",
   "execution_count": 112,
   "metadata": {},
   "outputs": [
    {
     "ename": "LoadError",
     "evalue": "MethodError: \u001b[0mCannot `convert` an object of type \u001b[92mSymbol\u001b[39m\u001b[0m to an object of type \u001b[91mFloat64\u001b[39m\n\n\u001b[0mClosest candidates are:\n\u001b[0m  convert(::Type{Float64}, \u001b[91m::Measures.AbsoluteLength\u001b[39m)\n\u001b[0m\u001b[90m   @\u001b[39m \u001b[35mMeasures\u001b[39m \u001b[90mC:\\Users\\imaan\\.julia\\packages\\Measures\\PKOxJ\\src\\\u001b[39m\u001b[90m\u001b[4mlength.jl:12\u001b[24m\u001b[39m\n\u001b[0m  convert(::Type{<:Real}, \u001b[91m::T\u001b[39m) where T<:SparseConnectivityTracer.AbstractTracer\n\u001b[0m\u001b[90m   @\u001b[39m \u001b[36mSparseConnectivityTracer\u001b[39m \u001b[90mC:\\Users\\imaan\\.julia\\packages\\SparseConnectivityTracer\\aHOLr\\src\\overloads\\\u001b[39m\u001b[90m\u001b[4mconversion.jl:10\u001b[24m\u001b[39m\n\u001b[0m  convert(::Type{N}, \u001b[91m::D\u001b[39m) where {N<:Real, P, T, D<:SparseConnectivityTracer.Dual{P, T}}\n\u001b[0m\u001b[90m   @\u001b[39m \u001b[36mSparseConnectivityTracer\u001b[39m \u001b[90mC:\\Users\\imaan\\.julia\\packages\\SparseConnectivityTracer\\aHOLr\\src\\overloads\\\u001b[39m\u001b[90m\u001b[4mconversion.jl:31\u001b[24m\u001b[39m\n\u001b[0m  ...\n",
     "output_type": "error",
     "traceback": [
      "MethodError: \u001b[0mCannot `convert` an object of type \u001b[92mSymbol\u001b[39m\u001b[0m to an object of type \u001b[91mFloat64\u001b[39m\n\n\u001b[0mClosest candidates are:\n\u001b[0m  convert(::Type{Float64}, \u001b[91m::Measures.AbsoluteLength\u001b[39m)\n\u001b[0m\u001b[90m   @\u001b[39m \u001b[35mMeasures\u001b[39m \u001b[90mC:\\Users\\imaan\\.julia\\packages\\Measures\\PKOxJ\\src\\\u001b[39m\u001b[90m\u001b[4mlength.jl:12\u001b[24m\u001b[39m\n\u001b[0m  convert(::Type{<:Real}, \u001b[91m::T\u001b[39m) where T<:SparseConnectivityTracer.AbstractTracer\n\u001b[0m\u001b[90m   @\u001b[39m \u001b[36mSparseConnectivityTracer\u001b[39m \u001b[90mC:\\Users\\imaan\\.julia\\packages\\SparseConnectivityTracer\\aHOLr\\src\\overloads\\\u001b[39m\u001b[90m\u001b[4mconversion.jl:10\u001b[24m\u001b[39m\n\u001b[0m  convert(::Type{N}, \u001b[91m::D\u001b[39m) where {N<:Real, P, T, D<:SparseConnectivityTracer.Dual{P, T}}\n\u001b[0m\u001b[90m   @\u001b[39m \u001b[36mSparseConnectivityTracer\u001b[39m \u001b[90mC:\\Users\\imaan\\.julia\\packages\\SparseConnectivityTracer\\aHOLr\\src\\overloads\\\u001b[39m\u001b[90m\u001b[4mconversion.jl:31\u001b[24m\u001b[39m\n\u001b[0m  ...\n",
      "",
      "Stacktrace:",
      " [1] top-level scope",
      "   @ In[112]:24"
     ]
    }
   ],
   "source": [
    "\n",
    "# ╔═╡ a43e8d20-cf23-4c52-86ff-5e5984067418\n",
    "begin\n",
    "\txspace = range(xspan...; length = 5001)\n",
    "\n",
    "\tintervalroots = find_zeros(x -> Nₓ(x, model) - Nₐ(x, model), xspan);\n",
    "\n",
    "\tnullclinefig = plot(xlims = xspan, ylims = aspan, xlabel = L\"Phosphorus concentration $x$\", ylabel = L\"Fertiliser use $a$\", title = L\"Cost $c = %$c$\")\n",
    "\n",
    "\tvline!(nullclinefig, [x₀]; c = :darkorange, linestyle = :dash)\n",
    "\n",
    "\tplot!(nullclinefig, xspace, x -> Nₓ(x, model); label = L\"N_x\", linestyle = :solid, c = :black)\n",
    "\tplot!(nullclinefig, xspace, x -> Nₐ(x, model); label = L\"N_a\", linestyle = :dot, c = :black)\n",
    "\n",
    "\n",
    "\tfor x̄ in intervalroots\n",
    "\t\tā = Nₓ(x̄, model)\n",
    "\t\tjac = J(x̄, ā, model)\n",
    "\n",
    "\t\tλ, v = eigen(jac)\n",
    "\n",
    "\t\tissaddle = all.(isreal(λ)) && prod(λ) < 0.\n",
    "\n",
    "\t\tc = issaddle ? :darkgreen : :darkred\n",
    "\n",
    "\t\t\n",
    "\t\tif issaddle\n",
    "\t\t\tū = [x̄, ā]\n",
    "\t\t\tvₛ = v[:, λ .< 0] |> vec\n",
    "\t\t\tfor u₀ in (ū - h * vₛ, ū + h * vₛ)\n",
    "\t\t\t\tts = range(0, -manifoldhorizon; step = -0.1)\n",
    "\t\t\t\tprob = ODEProblem(F!, u₀, (0, -manifoldhorizon), model)\n",
    "\t\t\t\tmₛ = solve(prob, callback = callback)\n",
    "\t\n",
    "\t\t\t\ttraj = mₛ(ts).u\t\n",
    "\t\t\t\txₜ = getindex.(traj, 1)\n",
    "\t\t\t\tλₜ = getindex.(traj, 2)\n",
    "\t\t\t\t\t\n",
    "\t\t\t\tplot!(nullclinefig, xₜ, λₜ; c = :darkgreen)\n",
    "\t\t\tend\n",
    "\t\tend\n",
    "\n",
    "\t\tscatter!(nullclinefig, [x̄], [ā]; c = c, markersize = 5, markerstrokewidth = 0)\n",
    "\tend\n",
    "\t\n",
    "\tnullclinefig\n",
    "end\n",
    "\n"
   ]
  },
  {
   "cell_type": "code",
   "execution_count": null,
   "metadata": {},
   "outputs": [
    {
     "ename": "LoadError",
     "evalue": "UndefVarError: `afig` not defined",
     "output_type": "error",
     "traceback": [
      "UndefVarError: `afig` not defined",
      "",
      "Stacktrace:",
      " [1] top-level scope",
      "   @ In[76]:2"
     ]
    }
   ],
   "source": [
    "let\n",
    "\texfig = hline([0.]; c = :black, linestyle = :dash, xlabel = L\"Phosphorus in the lake $x$\", ylabel = L\"\\dot{x} = %$afig - m(x)\")\n",
    "\n",
    "\tfex = x -> afig - m(x, model)\n",
    "\tplot!(exfig, xspace, fex; ylims = (-0.6, 0.6), c = :black, xlims = xspan)\n",
    "\n",
    "\troots = find_zeros(fex, xspan)\n",
    "\tfor x̄ in roots\n",
    "\t\tisstable = m′(x̄, model) > 0.\n",
    "\t\tscatter!(exfig, [x̄], [0.]; c = isstable ? :black : :white, markersize = 6) \n",
    "\tend\n",
    "\n",
    "\texfig\n",
    "end"
   ]
  },
  {
   "cell_type": "code",
   "execution_count": 113,
   "metadata": {},
   "outputs": [
    {
     "ename": "LoadError",
     "evalue": "invalid redefinition of constant Main.J",
     "output_type": "error",
     "traceback": [
      "invalid redefinition of constant Main.J",
      "",
      "Stacktrace:",
      " [1] top-level scope",
      "   @ .\\In[113]:62"
     ]
    }
   ],
   "source": [
    "using Plots\n",
    "using LinearAlgebra\n",
    "using DifferentialEquations\n",
    "\n",
    "# Define the nullcline functions\n",
    "function nullcline_a(x, p, b, c)\n",
    "    return (p + b - (2 * x) / ((x^2 + 1)^2)) / (2 * c * x)\n",
    "end\n",
    "\n",
    "function nullcline_x(b, x)\n",
    "    return b * x - (x^2) / (x^2 + 1)\n",
    "end\n",
    "\n",
    "# Define the Jacobian matrix\n",
    "function jacobian(x, l, b, c, p)\n",
    "    df_dx = -b + (2 * x) / ((x^2 + 1)^2)\n",
    "    df_dl = 0\n",
    "    dg_dx = 2 * c - ((2 * l) * (1 - 3 * x^2)) / ((x^2 + 1)^3)\n",
    "    dg_dl = p + b - (2 * x) / ((x^2 + 1)^2)\n",
    "    return [df_dx df_dl; dg_dx dg_dl]\n",
    "end\n",
    "\n",
    "# Define the state and costate equations\n",
    "function state_eq(l, b, x)\n",
    "    return -1 / l - b * x + (x^2) / (x^2 + 1)\n",
    "end\n",
    "\n",
    "function costate_eq(l, b, c, p, x)\n",
    "    return p * l + 2 * c * x + l * b - (2 * x * l) / (x^2 + 1)^2\n",
    "end\n",
    "\n",
    "# Define the system of ODEs\n",
    "function system!(du, u, p, t)\n",
    "    l, x = u\n",
    "    b, c, p_val = p\n",
    "    du[1] = state_eq(l, b, x)\n",
    "    du[2] = costate_eq(l, b, c, p_val, x)\n",
    "end\n",
    "\n",
    "# Parameters\n",
    "b = 0.65\n",
    "p = 0.03\n",
    "c = 0.5\n",
    "x = range(0.01, 2, length=300)\n",
    "\n",
    "# Compute nullclines\n",
    "f2 = nullcline_a.(x, p, b, c)\n",
    "f1 = nullcline_x.(b, x)\n",
    "\n",
    "# Saddle points\n",
    "ss1_x = 0.45301029168136897\n",
    "ss1_a = 0.1241818769554022\n",
    "ss2_x = 1.436961466047747\n",
    "ss2_a = 0.2603043162259756\n",
    "saddles = [(ss1_x, ss1_a), (ss2_x, ss2_a)]\n",
    "\n",
    "# Plot the stable manifold\n",
    "plot(x, f2, label=\"Costate nullcline, f₂(x)\", lw=2)\n",
    "plot!(x, f1, label=\"State nullcline, f₁(x)\", lw=2)\n",
    "\n",
    "for saddle in saddles\n",
    "    J = jacobian(saddle[1], -1 / saddle[2], b, c, p)\n",
    "\n",
    "    # Calculate eigenvalues and eigenvectors\n",
    "    values, vectors = eigen(J)\n",
    "    println(\"Eigenvalues: \", values)\n",
    "    println(\"Eigenvectors: \", vectors)\n",
    "\n",
    "    # Stable eigenvector (corresponding to the negative eigenvalue)\n",
    "    stable_idx = argmin(abs.(values))\n",
    "    println(\"Stable eigenvalue = \", values[stable_idx])\n",
    "    stable_eigenvector = vectors[:, stable_idx]\n",
    "    stable_eigenvector /= norm(stable_eigenvector)  # Normalize to unit length\n",
    "\n",
    "    # Perturb the saddle point along the stable eigenvector\n",
    "    h = 0.01\n",
    "    z0_plus = [saddle[2], saddle[1]] .+ h * stable_eigenvector\n",
    "    z0_minus = [saddle[2], saddle[1]] .- h * stable_eigenvector\n",
    "\n",
    "    # Integrate backwards in time\n",
    "    t_span = (-10.0, 0.0)\n",
    "    t_eval = range(-10.0, 0.0, length=1000)\n",
    "    prob_plus = ODEProblem(system!, z0_plus, t_span, (b, c, p))\n",
    "    prob_minus = ODEProblem(system!, z0_minus, t_span, (b, c, p))\n",
    "    sol_plus = solve(prob_plus, Tsit5(), saveat=t_eval)\n",
    "    sol_minus = solve(prob_minus, Tsit5(), saveat=t_eval)\n",
    "\n",
    "    # Plot the stable manifolds\n",
    "    plot!(sol_plus[2, :], sol_plus[1, :], label=\"Stable Manifold (z₀ + h*vₛ)\", color=:blue)\n",
    "    plot!(sol_minus[2, :], sol_minus[1, :], label=\"Stable Manifold (z₀ - h*vₛ)\", color=:red)\n",
    "    scatter!([saddle[1]], [saddle[2]], label=\"Saddle Point\", color=:black, markersize=4)\n",
    "end\n",
    "\n",
    "xlabel!(\"x\")\n",
    "ylabel!(\"a\")\n",
    "title!(\"Stable Manifold of the Saddle Point\")\n",
    "xlims!(0, 2)\n",
    "ylims!(0, 2)\n",
    "grid!(true)\n",
    "legend!(fontsize=10)"
   ]
  }
 ],
 "metadata": {
  "kernelspec": {
   "display_name": "Julia 1.10.5",
   "language": "julia",
   "name": "julia-1.10"
  },
  "language_info": {
   "file_extension": ".jl",
   "mimetype": "application/julia",
   "name": "julia",
   "version": "1.10.5"
  }
 },
 "nbformat": 4,
 "nbformat_minor": 2
}
